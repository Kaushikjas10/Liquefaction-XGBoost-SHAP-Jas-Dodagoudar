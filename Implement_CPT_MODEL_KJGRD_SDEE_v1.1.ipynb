{
 "cells": [
  {
   "cell_type": "markdown",
   "metadata": {
    "id": "53ewTw30PIoI"
   },
   "source": [
    "# Load the necessary python packages\n",
    "\n",
    "Artcle link for more information: \n",
    "\n",
    "https://doi.org/10.1016/j.soildyn.2022.107662"
   ]
  },
  {
   "cell_type": "code",
   "execution_count": 2,
   "metadata": {
    "executionInfo": {
     "elapsed": 2466,
     "status": "ok",
     "timestamp": 1678856215688,
     "user": {
      "displayName": "Kaushik Jas ce19d202",
      "userId": "01693998378593910946"
     },
     "user_tz": -330
    },
    "id": "D6xujhFeZNNv"
   },
   "outputs": [],
   "source": [
    "#Import libraries\n",
    "import matplotlib.pyplot as plt\n",
    "%matplotlib inline\n",
    "import numpy as np\n",
    "import pandas as pd"
   ]
  },
  {
   "cell_type": "markdown",
   "metadata": {
    "id": "k3eQn_iASXrm"
   },
   "source": [
    "# Load Test Sites Data"
   ]
  },
  {
   "cell_type": "code",
   "execution_count": 5,
   "metadata": {
    "colab": {
     "base_uri": "https://localhost:8080/"
    },
    "executionInfo": {
     "elapsed": 7747,
     "status": "ok",
     "timestamp": 1678856797547,
     "user": {
      "displayName": "Kaushik Jas ce19d202",
      "userId": "01693998378593910946"
     },
     "user_tz": -330
    },
    "id": "vI3h6rusqIQ9",
    "outputId": "8a14619a-20fd-4949-c69d-6a25ef367af7"
   },
   "outputs": [],
   "source": [
    "# If test sites information csv format then load the CSV file into a Pandas dataframe\n",
    "#df = pd.read_csv('TestSites2.csv')\n",
    "# If test sites information excel format then load the excel file into a Pandas dataframe as follows\n",
    "df = pd.read_excel('TestSites.xlsx')\n",
    "\n",
    "# Extract the features\n",
    "#X = df.values\n",
    "X = df"
   ]
  },
  {
   "cell_type": "code",
   "execution_count": 7,
   "metadata": {
    "colab": {
     "base_uri": "https://localhost:8080/",
     "height": 206
    },
    "executionInfo": {
     "elapsed": 9,
     "status": "ok",
     "timestamp": 1678856863546,
     "user": {
      "displayName": "Kaushik Jas ce19d202",
      "userId": "01693998378593910946"
     },
     "user_tz": -330
    },
    "id": "OXo6tTKeqnfL",
    "outputId": "ebc07d24-99f3-4c77-c1c6-22e9e2218016"
   },
   "outputs": [
    {
     "data": {
      "text/html": [
       "\n",
       "  <div id=\"df-d4686243-83e4-46ea-b35d-a54b588cf305\">\n",
       "    <div class=\"colab-df-container\">\n",
       "      <div>\n",
       "<style scoped>\n",
       "    .dataframe tbody tr th:only-of-type {\n",
       "        vertical-align: middle;\n",
       "    }\n",
       "\n",
       "    .dataframe tbody tr th {\n",
       "        vertical-align: top;\n",
       "    }\n",
       "\n",
       "    .dataframe thead th {\n",
       "        text-align: right;\n",
       "    }\n",
       "</style>\n",
       "<table border=\"1\" class=\"dataframe\">\n",
       "  <thead>\n",
       "    <tr style=\"text-align: right;\">\n",
       "      <th></th>\n",
       "      <th>IP1</th>\n",
       "      <th>IP2</th>\n",
       "      <th>IP3</th>\n",
       "      <th>IP4</th>\n",
       "      <th>IP6</th>\n",
       "      <th>IP9</th>\n",
       "      <th>IP10</th>\n",
       "      <th>IP11</th>\n",
       "      <th>IP12</th>\n",
       "      <th>IP14</th>\n",
       "      <th>IP15</th>\n",
       "      <th>IP17</th>\n",
       "      <th>IP18</th>\n",
       "    </tr>\n",
       "  </thead>\n",
       "  <tbody>\n",
       "    <tr>\n",
       "      <th>0</th>\n",
       "      <td>7.62</td>\n",
       "      <td>0.250</td>\n",
       "      <td>5.5</td>\n",
       "      <td>3.5</td>\n",
       "      <td>79</td>\n",
       "      <td>2.47</td>\n",
       "      <td>61</td>\n",
       "      <td>78.3</td>\n",
       "      <td>0.96</td>\n",
       "      <td>1.02</td>\n",
       "      <td>0.99</td>\n",
       "      <td>3.0</td>\n",
       "      <td>2.770000e-07</td>\n",
       "    </tr>\n",
       "    <tr>\n",
       "      <th>1</th>\n",
       "      <td>6.60</td>\n",
       "      <td>0.370</td>\n",
       "      <td>2.8</td>\n",
       "      <td>1.2</td>\n",
       "      <td>35</td>\n",
       "      <td>1.90</td>\n",
       "      <td>35</td>\n",
       "      <td>162.6</td>\n",
       "      <td>0.97</td>\n",
       "      <td>1.10</td>\n",
       "      <td>1.28</td>\n",
       "      <td>1.0</td>\n",
       "      <td>1.500000e-05</td>\n",
       "    </tr>\n",
       "    <tr>\n",
       "      <th>2</th>\n",
       "      <td>7.60</td>\n",
       "      <td>0.640</td>\n",
       "      <td>4.7</td>\n",
       "      <td>1.1</td>\n",
       "      <td>49</td>\n",
       "      <td>1.76</td>\n",
       "      <td>4</td>\n",
       "      <td>159.3</td>\n",
       "      <td>0.97</td>\n",
       "      <td>1.10</td>\n",
       "      <td>0.97</td>\n",
       "      <td>0.6</td>\n",
       "      <td>4.000000e-05</td>\n",
       "    </tr>\n",
       "    <tr>\n",
       "      <th>3</th>\n",
       "      <td>6.93</td>\n",
       "      <td>0.220</td>\n",
       "      <td>4.5</td>\n",
       "      <td>3.4</td>\n",
       "      <td>72</td>\n",
       "      <td>1.77</td>\n",
       "      <td>4</td>\n",
       "      <td>93.3</td>\n",
       "      <td>0.95</td>\n",
       "      <td>1.04</td>\n",
       "      <td>1.05</td>\n",
       "      <td>2.1</td>\n",
       "      <td>3.730000e-05</td>\n",
       "    </tr>\n",
       "    <tr>\n",
       "      <th>4</th>\n",
       "      <td>6.54</td>\n",
       "      <td>0.174</td>\n",
       "      <td>3.9</td>\n",
       "      <td>2.7</td>\n",
       "      <td>57</td>\n",
       "      <td>2.55</td>\n",
       "      <td>85</td>\n",
       "      <td>90.1</td>\n",
       "      <td>0.95</td>\n",
       "      <td>1.06</td>\n",
       "      <td>1.08</td>\n",
       "      <td>2.6</td>\n",
       "      <td>1.580000e-07</td>\n",
       "    </tr>\n",
       "  </tbody>\n",
       "</table>\n",
       "</div>\n",
       "      <button class=\"colab-df-convert\" onclick=\"convertToInteractive('df-d4686243-83e4-46ea-b35d-a54b588cf305')\"\n",
       "              title=\"Convert this dataframe to an interactive table.\"\n",
       "              style=\"display:none;\">\n",
       "        \n",
       "  <svg xmlns=\"http://www.w3.org/2000/svg\" height=\"24px\"viewBox=\"0 0 24 24\"\n",
       "       width=\"24px\">\n",
       "    <path d=\"M0 0h24v24H0V0z\" fill=\"none\"/>\n",
       "    <path d=\"M18.56 5.44l.94 2.06.94-2.06 2.06-.94-2.06-.94-.94-2.06-.94 2.06-2.06.94zm-11 1L8.5 8.5l.94-2.06 2.06-.94-2.06-.94L8.5 2.5l-.94 2.06-2.06.94zm10 10l.94 2.06.94-2.06 2.06-.94-2.06-.94-.94-2.06-.94 2.06-2.06.94z\"/><path d=\"M17.41 7.96l-1.37-1.37c-.4-.4-.92-.59-1.43-.59-.52 0-1.04.2-1.43.59L10.3 9.45l-7.72 7.72c-.78.78-.78 2.05 0 2.83L4 21.41c.39.39.9.59 1.41.59.51 0 1.02-.2 1.41-.59l7.78-7.78 2.81-2.81c.8-.78.8-2.07 0-2.86zM5.41 20L4 18.59l7.72-7.72 1.47 1.35L5.41 20z\"/>\n",
       "  </svg>\n",
       "      </button>\n",
       "      \n",
       "  <style>\n",
       "    .colab-df-container {\n",
       "      display:flex;\n",
       "      flex-wrap:wrap;\n",
       "      gap: 12px;\n",
       "    }\n",
       "\n",
       "    .colab-df-convert {\n",
       "      background-color: #E8F0FE;\n",
       "      border: none;\n",
       "      border-radius: 50%;\n",
       "      cursor: pointer;\n",
       "      display: none;\n",
       "      fill: #1967D2;\n",
       "      height: 32px;\n",
       "      padding: 0 0 0 0;\n",
       "      width: 32px;\n",
       "    }\n",
       "\n",
       "    .colab-df-convert:hover {\n",
       "      background-color: #E2EBFA;\n",
       "      box-shadow: 0px 1px 2px rgba(60, 64, 67, 0.3), 0px 1px 3px 1px rgba(60, 64, 67, 0.15);\n",
       "      fill: #174EA6;\n",
       "    }\n",
       "\n",
       "    [theme=dark] .colab-df-convert {\n",
       "      background-color: #3B4455;\n",
       "      fill: #D2E3FC;\n",
       "    }\n",
       "\n",
       "    [theme=dark] .colab-df-convert:hover {\n",
       "      background-color: #434B5C;\n",
       "      box-shadow: 0px 1px 3px 1px rgba(0, 0, 0, 0.15);\n",
       "      filter: drop-shadow(0px 1px 2px rgba(0, 0, 0, 0.3));\n",
       "      fill: #FFFFFF;\n",
       "    }\n",
       "  </style>\n",
       "\n",
       "      <script>\n",
       "        const buttonEl =\n",
       "          document.querySelector('#df-d4686243-83e4-46ea-b35d-a54b588cf305 button.colab-df-convert');\n",
       "        buttonEl.style.display =\n",
       "          google.colab.kernel.accessAllowed ? 'block' : 'none';\n",
       "\n",
       "        async function convertToInteractive(key) {\n",
       "          const element = document.querySelector('#df-d4686243-83e4-46ea-b35d-a54b588cf305');\n",
       "          const dataTable =\n",
       "            await google.colab.kernel.invokeFunction('convertToInteractive',\n",
       "                                                     [key], {});\n",
       "          if (!dataTable) return;\n",
       "\n",
       "          const docLinkHtml = 'Like what you see? Visit the ' +\n",
       "            '<a target=\"_blank\" href=https://colab.research.google.com/notebooks/data_table.ipynb>data table notebook</a>'\n",
       "            + ' to learn more about interactive tables.';\n",
       "          element.innerHTML = '';\n",
       "          dataTable['output_type'] = 'display_data';\n",
       "          await google.colab.output.renderOutput(dataTable, element);\n",
       "          const docLink = document.createElement('div');\n",
       "          docLink.innerHTML = docLinkHtml;\n",
       "          element.appendChild(docLink);\n",
       "        }\n",
       "      </script>\n",
       "    </div>\n",
       "  </div>\n",
       "  "
      ],
      "text/plain": [
       "    IP1    IP2  IP3  IP4  IP6   IP9  IP10   IP11  IP12  IP14  IP15  IP17  \\\n",
       "0  7.62  0.250  5.5  3.5   79  2.47    61   78.3  0.96  1.02  0.99   3.0   \n",
       "1  6.60  0.370  2.8  1.2   35  1.90    35  162.6  0.97  1.10  1.28   1.0   \n",
       "2  7.60  0.640  4.7  1.1   49  1.76     4  159.3  0.97  1.10  0.97   0.6   \n",
       "3  6.93  0.220  4.5  3.4   72  1.77     4   93.3  0.95  1.04  1.05   2.1   \n",
       "4  6.54  0.174  3.9  2.7   57  2.55    85   90.1  0.95  1.06  1.08   2.6   \n",
       "\n",
       "           IP18  \n",
       "0  2.770000e-07  \n",
       "1  1.500000e-05  \n",
       "2  4.000000e-05  \n",
       "3  3.730000e-05  \n",
       "4  1.580000e-07  "
      ]
     },
     "execution_count": 7,
     "metadata": {},
     "output_type": "execute_result"
    }
   ],
   "source": [
    "df.head()"
   ]
  },
  {
   "cell_type": "code",
   "execution_count": 8,
   "metadata": {
    "colab": {
     "base_uri": "https://localhost:8080/"
    },
    "executionInfo": {
     "elapsed": 4,
     "status": "ok",
     "timestamp": 1678856883187,
     "user": {
      "displayName": "Kaushik Jas ce19d202",
      "userId": "01693998378593910946"
     },
     "user_tz": -330
    },
    "id": "vfa8jXENqtK1",
    "outputId": "e927a604-c99f-45fd-bdb0-c905a554a577"
   },
   "outputs": [
    {
     "name": "stdout",
     "output_type": "stream",
     "text": [
      "<class 'pandas.core.frame.DataFrame'>\n",
      "RangeIndex: 8 entries, 0 to 7\n",
      "Data columns (total 13 columns):\n",
      " #   Column  Non-Null Count  Dtype  \n",
      "---  ------  --------------  -----  \n",
      " 0   IP1     8 non-null      float64\n",
      " 1   IP2     8 non-null      float64\n",
      " 2   IP3     8 non-null      float64\n",
      " 3   IP4     8 non-null      float64\n",
      " 4   IP6     8 non-null      int64  \n",
      " 5   IP9     8 non-null      float64\n",
      " 6   IP10    8 non-null      int64  \n",
      " 7   IP11    8 non-null      float64\n",
      " 8   IP12    8 non-null      float64\n",
      " 9   IP14    8 non-null      float64\n",
      " 10  IP15    8 non-null      float64\n",
      " 11  IP17    8 non-null      float64\n",
      " 12  IP18    8 non-null      float64\n",
      "dtypes: float64(11), int64(2)\n",
      "memory usage: 960.0 bytes\n"
     ]
    }
   ],
   "source": [
    "df.info()"
   ]
  },
  {
   "cell_type": "code",
   "execution_count": 9,
   "metadata": {
    "colab": {
     "base_uri": "https://localhost:8080/",
     "height": 364
    },
    "executionInfo": {
     "elapsed": 5,
     "status": "ok",
     "timestamp": 1678856929004,
     "user": {
      "displayName": "Kaushik Jas ce19d202",
      "userId": "01693998378593910946"
     },
     "user_tz": -330
    },
    "id": "EOVJA0Pbq5M1",
    "outputId": "829ea8b1-3c91-4738-ba8e-795563938f26"
   },
   "outputs": [
    {
     "data": {
      "text/html": [
       "\n",
       "  <div id=\"df-2be41d8d-d1e2-44eb-a723-754a3d5927d7\">\n",
       "    <div class=\"colab-df-container\">\n",
       "      <div>\n",
       "<style scoped>\n",
       "    .dataframe tbody tr th:only-of-type {\n",
       "        vertical-align: middle;\n",
       "    }\n",
       "\n",
       "    .dataframe tbody tr th {\n",
       "        vertical-align: top;\n",
       "    }\n",
       "\n",
       "    .dataframe thead th {\n",
       "        text-align: right;\n",
       "    }\n",
       "</style>\n",
       "<table border=\"1\" class=\"dataframe\">\n",
       "  <thead>\n",
       "    <tr style=\"text-align: right;\">\n",
       "      <th></th>\n",
       "      <th>IP1</th>\n",
       "      <th>IP2</th>\n",
       "      <th>IP3</th>\n",
       "      <th>IP4</th>\n",
       "      <th>IP6</th>\n",
       "      <th>IP9</th>\n",
       "      <th>IP10</th>\n",
       "      <th>IP11</th>\n",
       "      <th>IP12</th>\n",
       "      <th>IP14</th>\n",
       "      <th>IP15</th>\n",
       "      <th>IP17</th>\n",
       "      <th>IP18</th>\n",
       "    </tr>\n",
       "  </thead>\n",
       "  <tbody>\n",
       "    <tr>\n",
       "      <th>count</th>\n",
       "      <td>8.000000</td>\n",
       "      <td>8.000000</td>\n",
       "      <td>8.000000</td>\n",
       "      <td>8.000000</td>\n",
       "      <td>8.000000</td>\n",
       "      <td>8.000000</td>\n",
       "      <td>8.000000</td>\n",
       "      <td>8.000000</td>\n",
       "      <td>8.000</td>\n",
       "      <td>8.000000</td>\n",
       "      <td>8.000000</td>\n",
       "      <td>8.000000</td>\n",
       "      <td>8.000000e+00</td>\n",
       "    </tr>\n",
       "    <tr>\n",
       "      <th>mean</th>\n",
       "      <td>7.268750</td>\n",
       "      <td>0.301250</td>\n",
       "      <td>4.562500</td>\n",
       "      <td>2.425000</td>\n",
       "      <td>61.625000</td>\n",
       "      <td>2.048750</td>\n",
       "      <td>33.500000</td>\n",
       "      <td>113.850000</td>\n",
       "      <td>0.965</td>\n",
       "      <td>1.060000</td>\n",
       "      <td>1.068750</td>\n",
       "      <td>2.112500</td>\n",
       "      <td>1.134694e-04</td>\n",
       "    </tr>\n",
       "    <tr>\n",
       "      <th>std</th>\n",
       "      <td>0.806482</td>\n",
       "      <td>0.148324</td>\n",
       "      <td>1.070297</td>\n",
       "      <td>1.005343</td>\n",
       "      <td>14.232132</td>\n",
       "      <td>0.440955</td>\n",
       "      <td>33.222196</td>\n",
       "      <td>49.642148</td>\n",
       "      <td>0.020</td>\n",
       "      <td>0.035051</td>\n",
       "      <td>0.128111</td>\n",
       "      <td>1.433714</td>\n",
       "      <td>2.821562e-04</td>\n",
       "    </tr>\n",
       "    <tr>\n",
       "      <th>min</th>\n",
       "      <td>6.540000</td>\n",
       "      <td>0.174000</td>\n",
       "      <td>2.800000</td>\n",
       "      <td>1.100000</td>\n",
       "      <td>35.000000</td>\n",
       "      <td>1.330000</td>\n",
       "      <td>1.000000</td>\n",
       "      <td>54.800000</td>\n",
       "      <td>0.950</td>\n",
       "      <td>1.020000</td>\n",
       "      <td>0.920000</td>\n",
       "      <td>0.600000</td>\n",
       "      <td>1.580000e-07</td>\n",
       "    </tr>\n",
       "    <tr>\n",
       "      <th>25%</th>\n",
       "      <td>6.847500</td>\n",
       "      <td>0.220000</td>\n",
       "      <td>3.900000</td>\n",
       "      <td>1.500000</td>\n",
       "      <td>55.000000</td>\n",
       "      <td>1.767500</td>\n",
       "      <td>4.000000</td>\n",
       "      <td>80.400000</td>\n",
       "      <td>0.950</td>\n",
       "      <td>1.030000</td>\n",
       "      <td>0.985000</td>\n",
       "      <td>1.000000</td>\n",
       "      <td>2.532500e-07</td>\n",
       "    </tr>\n",
       "    <tr>\n",
       "      <th>50%</th>\n",
       "      <td>6.930000</td>\n",
       "      <td>0.253000</td>\n",
       "      <td>4.600000</td>\n",
       "      <td>2.600000</td>\n",
       "      <td>65.000000</td>\n",
       "      <td>1.990000</td>\n",
       "      <td>23.500000</td>\n",
       "      <td>91.700000</td>\n",
       "      <td>0.960</td>\n",
       "      <td>1.050000</td>\n",
       "      <td>1.035000</td>\n",
       "      <td>1.850000</td>\n",
       "      <td>9.625000e-06</td>\n",
       "    </tr>\n",
       "    <tr>\n",
       "      <th>75%</th>\n",
       "      <td>7.605000</td>\n",
       "      <td>0.302500</td>\n",
       "      <td>5.050000</td>\n",
       "      <td>3.400000</td>\n",
       "      <td>71.250000</td>\n",
       "      <td>2.485000</td>\n",
       "      <td>62.250000</td>\n",
       "      <td>160.125000</td>\n",
       "      <td>0.970</td>\n",
       "      <td>1.100000</td>\n",
       "      <td>1.120000</td>\n",
       "      <td>2.700000</td>\n",
       "      <td>3.797500e-05</td>\n",
       "    </tr>\n",
       "    <tr>\n",
       "      <th>max</th>\n",
       "      <td>9.000000</td>\n",
       "      <td>0.640000</td>\n",
       "      <td>6.300000</td>\n",
       "      <td>3.500000</td>\n",
       "      <td>79.000000</td>\n",
       "      <td>2.550000</td>\n",
       "      <td>85.000000</td>\n",
       "      <td>191.300000</td>\n",
       "      <td>1.010</td>\n",
       "      <td>1.100000</td>\n",
       "      <td>1.280000</td>\n",
       "      <td>5.000000</td>\n",
       "      <td>8.105880e-04</td>\n",
       "    </tr>\n",
       "  </tbody>\n",
       "</table>\n",
       "</div>\n",
       "      <button class=\"colab-df-convert\" onclick=\"convertToInteractive('df-2be41d8d-d1e2-44eb-a723-754a3d5927d7')\"\n",
       "              title=\"Convert this dataframe to an interactive table.\"\n",
       "              style=\"display:none;\">\n",
       "        \n",
       "  <svg xmlns=\"http://www.w3.org/2000/svg\" height=\"24px\"viewBox=\"0 0 24 24\"\n",
       "       width=\"24px\">\n",
       "    <path d=\"M0 0h24v24H0V0z\" fill=\"none\"/>\n",
       "    <path d=\"M18.56 5.44l.94 2.06.94-2.06 2.06-.94-2.06-.94-.94-2.06-.94 2.06-2.06.94zm-11 1L8.5 8.5l.94-2.06 2.06-.94-2.06-.94L8.5 2.5l-.94 2.06-2.06.94zm10 10l.94 2.06.94-2.06 2.06-.94-2.06-.94-.94-2.06-.94 2.06-2.06.94z\"/><path d=\"M17.41 7.96l-1.37-1.37c-.4-.4-.92-.59-1.43-.59-.52 0-1.04.2-1.43.59L10.3 9.45l-7.72 7.72c-.78.78-.78 2.05 0 2.83L4 21.41c.39.39.9.59 1.41.59.51 0 1.02-.2 1.41-.59l7.78-7.78 2.81-2.81c.8-.78.8-2.07 0-2.86zM5.41 20L4 18.59l7.72-7.72 1.47 1.35L5.41 20z\"/>\n",
       "  </svg>\n",
       "      </button>\n",
       "      \n",
       "  <style>\n",
       "    .colab-df-container {\n",
       "      display:flex;\n",
       "      flex-wrap:wrap;\n",
       "      gap: 12px;\n",
       "    }\n",
       "\n",
       "    .colab-df-convert {\n",
       "      background-color: #E8F0FE;\n",
       "      border: none;\n",
       "      border-radius: 50%;\n",
       "      cursor: pointer;\n",
       "      display: none;\n",
       "      fill: #1967D2;\n",
       "      height: 32px;\n",
       "      padding: 0 0 0 0;\n",
       "      width: 32px;\n",
       "    }\n",
       "\n",
       "    .colab-df-convert:hover {\n",
       "      background-color: #E2EBFA;\n",
       "      box-shadow: 0px 1px 2px rgba(60, 64, 67, 0.3), 0px 1px 3px 1px rgba(60, 64, 67, 0.15);\n",
       "      fill: #174EA6;\n",
       "    }\n",
       "\n",
       "    [theme=dark] .colab-df-convert {\n",
       "      background-color: #3B4455;\n",
       "      fill: #D2E3FC;\n",
       "    }\n",
       "\n",
       "    [theme=dark] .colab-df-convert:hover {\n",
       "      background-color: #434B5C;\n",
       "      box-shadow: 0px 1px 3px 1px rgba(0, 0, 0, 0.15);\n",
       "      filter: drop-shadow(0px 1px 2px rgba(0, 0, 0, 0.3));\n",
       "      fill: #FFFFFF;\n",
       "    }\n",
       "  </style>\n",
       "\n",
       "      <script>\n",
       "        const buttonEl =\n",
       "          document.querySelector('#df-2be41d8d-d1e2-44eb-a723-754a3d5927d7 button.colab-df-convert');\n",
       "        buttonEl.style.display =\n",
       "          google.colab.kernel.accessAllowed ? 'block' : 'none';\n",
       "\n",
       "        async function convertToInteractive(key) {\n",
       "          const element = document.querySelector('#df-2be41d8d-d1e2-44eb-a723-754a3d5927d7');\n",
       "          const dataTable =\n",
       "            await google.colab.kernel.invokeFunction('convertToInteractive',\n",
       "                                                     [key], {});\n",
       "          if (!dataTable) return;\n",
       "\n",
       "          const docLinkHtml = 'Like what you see? Visit the ' +\n",
       "            '<a target=\"_blank\" href=https://colab.research.google.com/notebooks/data_table.ipynb>data table notebook</a>'\n",
       "            + ' to learn more about interactive tables.';\n",
       "          element.innerHTML = '';\n",
       "          dataTable['output_type'] = 'display_data';\n",
       "          await google.colab.output.renderOutput(dataTable, element);\n",
       "          const docLink = document.createElement('div');\n",
       "          docLink.innerHTML = docLinkHtml;\n",
       "          element.appendChild(docLink);\n",
       "        }\n",
       "      </script>\n",
       "    </div>\n",
       "  </div>\n",
       "  "
      ],
      "text/plain": [
       "            IP1       IP2       IP3       IP4        IP6       IP9       IP10  \\\n",
       "count  8.000000  8.000000  8.000000  8.000000   8.000000  8.000000   8.000000   \n",
       "mean   7.268750  0.301250  4.562500  2.425000  61.625000  2.048750  33.500000   \n",
       "std    0.806482  0.148324  1.070297  1.005343  14.232132  0.440955  33.222196   \n",
       "min    6.540000  0.174000  2.800000  1.100000  35.000000  1.330000   1.000000   \n",
       "25%    6.847500  0.220000  3.900000  1.500000  55.000000  1.767500   4.000000   \n",
       "50%    6.930000  0.253000  4.600000  2.600000  65.000000  1.990000  23.500000   \n",
       "75%    7.605000  0.302500  5.050000  3.400000  71.250000  2.485000  62.250000   \n",
       "max    9.000000  0.640000  6.300000  3.500000  79.000000  2.550000  85.000000   \n",
       "\n",
       "             IP11   IP12      IP14      IP15      IP17          IP18  \n",
       "count    8.000000  8.000  8.000000  8.000000  8.000000  8.000000e+00  \n",
       "mean   113.850000  0.965  1.060000  1.068750  2.112500  1.134694e-04  \n",
       "std     49.642148  0.020  0.035051  0.128111  1.433714  2.821562e-04  \n",
       "min     54.800000  0.950  1.020000  0.920000  0.600000  1.580000e-07  \n",
       "25%     80.400000  0.950  1.030000  0.985000  1.000000  2.532500e-07  \n",
       "50%     91.700000  0.960  1.050000  1.035000  1.850000  9.625000e-06  \n",
       "75%    160.125000  0.970  1.100000  1.120000  2.700000  3.797500e-05  \n",
       "max    191.300000  1.010  1.100000  1.280000  5.000000  8.105880e-04  "
      ]
     },
     "execution_count": 9,
     "metadata": {},
     "output_type": "execute_result"
    }
   ],
   "source": [
    "df.describe()"
   ]
  },
  {
   "cell_type": "markdown",
   "metadata": {
    "id": "cD2kU8NcpttE"
   },
   "source": []
  },
  {
   "cell_type": "markdown",
   "metadata": {
    "id": "bq3JfbR7SdrI"
   },
   "source": [
    "# Load the developed CPT Model\n"
   ]
  },
  {
   "cell_type": "code",
   "execution_count": 6,
   "metadata": {},
   "outputs": [
    {
     "name": "stdout",
     "output_type": "stream",
     "text": [
      "[09:25:47] WARNING: C:\\buildkite-agent\\builds\\buildkite-windows-cpu-autoscaling-group-i-07593ffd91cd9da33-1\\xgboost\\xgboost-ci-windows\\src\\learner.cc:1098: Loading model from XGBoost < 1.0.0, consider saving it again for improved compatibility\n"
     ]
    }
   ],
   "source": [
    "import xgboost as xgb\n",
    "model = xgb.XGBClassifier()\n",
    "model.load_model('MODEL_D_Liq_Jas_Dodagoudar.txt') #This .txt file is working fine."
   ]
  },
  {
   "cell_type": "code",
   "execution_count": 7,
   "metadata": {
    "executionInfo": {
     "elapsed": 819,
     "status": "ok",
     "timestamp": 1678857538547,
     "user": {
      "displayName": "Kaushik Jas ce19d202",
      "userId": "01693998378593910946"
     },
     "user_tz": -330
    },
    "id": "lNevBFpxTm1M"
   },
   "outputs": [],
   "source": [
    "y_pred = model.predict(X)"
   ]
  },
  {
   "cell_type": "code",
   "execution_count": 8,
   "metadata": {
    "executionInfo": {
     "elapsed": 2,
     "status": "ok",
     "timestamp": 1678857541141,
     "user": {
      "displayName": "Kaushik Jas ce19d202",
      "userId": "01693998378593910946"
     },
     "user_tz": -330
    },
    "id": "03ashfUoUX62"
   },
   "outputs": [],
   "source": [
    "y_ProbPred = model.predict_proba(X)"
   ]
  },
  {
   "cell_type": "code",
   "execution_count": 9,
   "metadata": {},
   "outputs": [
    {
     "name": "stdout",
     "output_type": "stream",
     "text": [
      "[1 1 0 1 0 1 1 0]\n"
     ]
    }
   ],
   "source": [
    "print (y_pred) #Deterministic class labels"
   ]
  },
  {
   "cell_type": "code",
   "execution_count": 10,
   "metadata": {},
   "outputs": [
    {
     "name": "stdout",
     "output_type": "stream",
     "text": [
      "[[0.22919524 0.77080476]\n",
      " [0.32009494 0.67990506]\n",
      " [0.7045293  0.29547074]\n",
      " [0.31951046 0.68048954]\n",
      " [0.7698336  0.23016638]\n",
      " [0.11221308 0.8877869 ]\n",
      " [0.22919524 0.77080476]\n",
      " [0.9361835  0.06381651]]\n"
     ]
    }
   ],
   "source": [
    "print (y_ProbPred) #Probabilistic class labels"
   ]
  },
  {
   "cell_type": "code",
   "execution_count": null,
   "metadata": {
    "id": "GPl1m7daVmSz"
   },
   "outputs": [],
   "source": []
  },
  {
   "cell_type": "markdown",
   "metadata": {
    "id": "cJX3rLKtVkfd"
   },
   "source": [
    "# Load the SHAP package"
   ]
  },
  {
   "cell_type": "code",
   "execution_count": 17,
   "metadata": {
    "colab": {
     "base_uri": "https://localhost:8080/"
    },
    "executionInfo": {
     "elapsed": 6028,
     "status": "ok",
     "timestamp": 1678857560647,
     "user": {
      "displayName": "Kaushik Jas ce19d202",
      "userId": "01693998378593910946"
     },
     "user_tz": -330
    },
    "id": "1pd4U62CViTx",
    "outputId": "8189e89e-7d57-4b89-fe81-35e56e9e6621"
   },
   "outputs": [
    {
     "name": "stdout",
     "output_type": "stream",
     "text": [
      "Looking in indexes: https://pypi.org/simple, https://us-python.pkg.dev/colab-wheels/public/simple/\n",
      "Collecting shap\n",
      "  Downloading shap-0.41.0-cp39-cp39-manylinux_2_12_x86_64.manylinux2010_x86_64.whl (572 kB)\n",
      "\u001b[2K     \u001b[90m━━━━━━━━━━━━━━━━━━━━━━━━━━━━━━━━━━━━━━\u001b[0m \u001b[32m572.4/572.4 KB\u001b[0m \u001b[31m15.4 MB/s\u001b[0m eta \u001b[36m0:00:00\u001b[0m\n",
      "\u001b[?25hRequirement already satisfied: cloudpickle in /usr/local/lib/python3.9/dist-packages (from shap) (2.2.1)\n",
      "Requirement already satisfied: scipy in /usr/local/lib/python3.9/dist-packages (from shap) (1.10.1)\n",
      "Requirement already satisfied: numba in /usr/local/lib/python3.9/dist-packages (from shap) (0.56.4)\n",
      "Requirement already satisfied: scikit-learn in /usr/local/lib/python3.9/dist-packages (from shap) (1.2.2)\n",
      "Requirement already satisfied: tqdm>4.25.0 in /usr/local/lib/python3.9/dist-packages (from shap) (4.65.0)\n",
      "Requirement already satisfied: packaging>20.9 in /usr/local/lib/python3.9/dist-packages (from shap) (23.0)\n",
      "Requirement already satisfied: numpy in /usr/local/lib/python3.9/dist-packages (from shap) (1.22.4)\n",
      "Requirement already satisfied: pandas in /usr/local/lib/python3.9/dist-packages (from shap) (1.4.4)\n",
      "Collecting slicer==0.0.7\n",
      "  Downloading slicer-0.0.7-py3-none-any.whl (14 kB)\n",
      "Requirement already satisfied: setuptools in /usr/local/lib/python3.9/dist-packages (from numba->shap) (63.4.3)\n",
      "Requirement already satisfied: llvmlite<0.40,>=0.39.0dev0 in /usr/local/lib/python3.9/dist-packages (from numba->shap) (0.39.1)\n",
      "Requirement already satisfied: python-dateutil>=2.8.1 in /usr/local/lib/python3.9/dist-packages (from pandas->shap) (2.8.2)\n",
      "Requirement already satisfied: pytz>=2020.1 in /usr/local/lib/python3.9/dist-packages (from pandas->shap) (2022.7.1)\n",
      "Requirement already satisfied: joblib>=1.1.1 in /usr/local/lib/python3.9/dist-packages (from scikit-learn->shap) (1.1.1)\n",
      "Requirement already satisfied: threadpoolctl>=2.0.0 in /usr/local/lib/python3.9/dist-packages (from scikit-learn->shap) (3.1.0)\n",
      "Requirement already satisfied: six>=1.5 in /usr/local/lib/python3.9/dist-packages (from python-dateutil>=2.8.1->pandas->shap) (1.15.0)\n",
      "Installing collected packages: slicer, shap\n",
      "Successfully installed shap-0.41.0 slicer-0.0.7\n"
     ]
    }
   ],
   "source": [
    "%pip install shap"
   ]
  },
  {
   "cell_type": "markdown",
   "metadata": {},
   "source": [
    "### Load the SHAP explainer"
   ]
  },
  {
   "cell_type": "code",
   "execution_count": 18,
   "metadata": {
    "executionInfo": {
     "elapsed": 9849,
     "status": "ok",
     "timestamp": 1678857585969,
     "user": {
      "displayName": "Kaushik Jas ce19d202",
      "userId": "01693998378593910946"
     },
     "user_tz": -330
    },
    "id": "xPJF8k3mbMvA"
   },
   "outputs": [],
   "source": [
    "import shap\n",
    "explainer = shap.TreeExplainer(model) #Explainer corresponding to best model\n",
    "shap_values = explainer(X) # Shap value for the whole dataset"
   ]
  },
  {
   "cell_type": "markdown",
   "metadata": {
    "id": "ARmlC-sGj62W"
   },
   "source": [
    "See SHAP values"
   ]
  },
  {
   "cell_type": "code",
   "execution_count": 19,
   "metadata": {
    "colab": {
     "base_uri": "https://localhost:8080/"
    },
    "executionInfo": {
     "elapsed": 5,
     "status": "ok",
     "timestamp": 1678857585970,
     "user": {
      "displayName": "Kaushik Jas ce19d202",
      "userId": "01693998378593910946"
     },
     "user_tz": -330
    },
    "id": "Gr-bO1blj7AC",
    "outputId": "8bb658a3-1363-4a33-c246-ec60c41d7e64"
   },
   "outputs": [
    {
     "data": {
      "text/plain": [
       ".values =\n",
       "array([[-0.01505005,  0.08165662,  0.        , -0.4671053 ,  0.        ,\n",
       "         0.        ,  0.2418636 ,  1.1230073 ,  0.        ,  0.        ,\n",
       "         0.        ,  0.        ,  0.11272408],\n",
       "       [ 0.6255532 ,  0.319398  ,  0.        ,  0.45045164,  0.        ,\n",
       "         0.        ,  0.572726  , -1.4754827 ,  0.        ,  0.        ,\n",
       "         0.        ,  0.        ,  0.12492439],\n",
       "       [-0.0645622 ,  0.319398  ,  0.        ,  0.73358905,  0.        ,\n",
       "         0.        , -0.03436356, -2.0837107 ,  0.        ,  0.        ,\n",
       "         0.        ,  0.        ,  0.12492439],\n",
       "       [-0.01505005,  0.24286096,  0.        , -0.4711704 ,  0.        ,\n",
       "         0.        , -0.01451182,  0.76540464,  0.        ,  0.        ,\n",
       "         0.        ,  0.        ,  0.11272408],\n",
       "       [ 0.14725101, -1.3687873 ,  0.        , -0.3589    ,  0.        ,\n",
       "         0.        ,  0.2418636 , -0.11728813,  0.        ,  0.        ,\n",
       "         0.        ,  0.        ,  0.11272408],\n",
       "       [-0.01505005,  0.17330487,  0.        ,  0.18658422,  0.        ,\n",
       "         0.        ,  0.2418636 ,  1.1719815 ,  0.        ,  0.        ,\n",
       "         0.        ,  0.        ,  0.17388341],\n",
       "       [-0.01505005,  0.08165662,  0.        , -0.4711704 ,  0.        ,\n",
       "         0.        , -0.01451182,  1.3834478 ,  0.        ,  0.        ,\n",
       "         0.        ,  0.        ,  0.11272408],\n",
       "       [-0.0645622 ,  0.21037592,  0.        , -0.2564405 ,  0.        ,\n",
       "         0.        , -0.05178384, -2.18357   ,  0.        ,  0.        ,\n",
       "         0.        ,  0.        , -0.4755838 ]], dtype=float32)\n",
       "\n",
       ".base_values =\n",
       "array([0.135765, 0.135765, 0.135765, 0.135765, 0.135765, 0.135765,\n",
       "       0.135765, 0.135765], dtype=float32)\n",
       "\n",
       ".data =\n",
       "array([[7.62000e+00, 2.50000e-01, 5.50000e+00, 3.50000e+00, 7.90000e+01,\n",
       "        2.47000e+00, 6.10000e+01, 7.83000e+01, 9.60000e-01, 1.02000e+00,\n",
       "        9.90000e-01, 3.00000e+00, 2.77000e-07],\n",
       "       [6.60000e+00, 3.70000e-01, 2.80000e+00, 1.20000e+00, 3.50000e+01,\n",
       "        1.90000e+00, 3.50000e+01, 1.62600e+02, 9.70000e-01, 1.10000e+00,\n",
       "        1.28000e+00, 1.00000e+00, 1.50000e-05],\n",
       "       [7.60000e+00, 6.40000e-01, 4.70000e+00, 1.10000e+00, 4.90000e+01,\n",
       "        1.76000e+00, 4.00000e+00, 1.59300e+02, 9.70000e-01, 1.10000e+00,\n",
       "        9.70000e-01, 6.00000e-01, 4.00000e-05],\n",
       "       [6.93000e+00, 2.20000e-01, 4.50000e+00, 3.40000e+00, 7.20000e+01,\n",
       "        1.77000e+00, 4.00000e+00, 9.33000e+01, 9.50000e-01, 1.04000e+00,\n",
       "        1.05000e+00, 2.10000e+00, 3.73000e-05],\n",
       "       [6.54000e+00, 1.74000e-01, 3.90000e+00, 2.70000e+00, 5.70000e+01,\n",
       "        2.55000e+00, 8.50000e+01, 9.01000e+01, 9.50000e-01, 1.06000e+00,\n",
       "        1.08000e+00, 2.60000e+00, 1.58000e-07],\n",
       "       [9.00000e+00, 2.56000e-01, 6.30000e+00, 1.60000e+00, 7.10000e+01,\n",
       "        2.53000e+00, 6.60000e+01, 8.11000e+01, 1.01000e+00, 1.03000e+00,\n",
       "        9.20000e-01, 1.60000e+00, 1.82000e-07],\n",
       "       [6.93000e+00, 2.20000e-01, 4.90000e+00, 2.50000e+00, 6.70000e+01,\n",
       "        2.08000e+00, 1.20000e+01, 5.48000e+01, 9.50000e-01, 1.03000e+00,\n",
       "        1.02000e+00, 5.00000e+00, 4.25000e-06],\n",
       "       [6.93000e+00, 2.80000e-01, 3.90000e+00, 3.40000e+00, 6.30000e+01,\n",
       "        1.33000e+00, 1.00000e+00, 1.91300e+02, 9.60000e-01, 1.10000e+00,\n",
       "        1.24000e+00, 1.00000e+00, 8.10588e-04]])"
      ]
     },
     "execution_count": 19,
     "metadata": {},
     "output_type": "execute_result"
    }
   ],
   "source": [
    "shap_values"
   ]
  },
  {
   "cell_type": "markdown",
   "metadata": {
    "id": "Pum2wHkNgGeS"
   },
   "source": [
    "## Get the local plots\n",
    "\n",
    "CIN = Case index number. It stands for the serial number corresponding to your case history.\n",
    "Put that serial number/row number of which you want to find SHAP plots."
   ]
  },
  {
   "cell_type": "code",
   "execution_count": 20,
   "metadata": {
    "colab": {
     "base_uri": "https://localhost:8080/"
    },
    "executionInfo": {
     "elapsed": 4193,
     "status": "ok",
     "timestamp": 1678857596811,
     "user": {
      "displayName": "Kaushik Jas ce19d202",
      "userId": "01693998378593910946"
     },
     "user_tz": -330
    },
    "id": "y-lkANHabruX",
    "outputId": "ca4f7c2e-931a-4fc4-be83-d46015b8a416"
   },
   "outputs": [
    {
     "name": "stdout",
     "output_type": "stream",
     "text": [
      "Enter CIN of your site to get Local Plot: 1\n"
     ]
    }
   ],
   "source": [
    "i = int(input(\"Enter CIN of your site to get Local Plot: \"))"
   ]
  },
  {
   "cell_type": "code",
   "execution_count": 21,
   "metadata": {
    "colab": {
     "base_uri": "https://localhost:8080/",
     "height": 525
    },
    "executionInfo": {
     "elapsed": 1251,
     "status": "ok",
     "timestamp": 1678857600778,
     "user": {
      "displayName": "Kaushik Jas ce19d202",
      "userId": "01693998378593910946"
     },
     "user_tz": -330
    },
    "id": "KyPx1eGobtKr",
    "outputId": "3226c077-4cc2-4752-995f-36fd32396636"
   },
   "outputs": [
    {
     "data": {
      "image/png": "[encoded data removed]",
      "text/plain": [
       "<Figure size 576x576 with 3 Axes>"
      ]
     },
     "metadata": {},
     "output_type": "display_data"
    }
   ],
   "source": [
    "#Local plots\n",
    "shap.plots.waterfall(shap_values[i], max_display=13)"
   ]
  },
  {
   "cell_type": "code",
   "execution_count": null,
   "metadata": {
    "id": "w697V7aUgL8m"
   },
   "outputs": [],
   "source": []
  },
  {
   "cell_type": "markdown",
   "metadata": {
    "id": "zD54kE5hgME6"
   },
   "source": [
    "### GET THE GLOBAL PLOT"
   ]
  },
  {
   "cell_type": "code",
   "execution_count": 23,
   "metadata": {
    "colab": {
     "base_uri": "https://localhost:8080/",
     "height": 500
    },
    "executionInfo": {
     "elapsed": 1373,
     "status": "ok",
     "timestamp": 1678857611846,
     "user": {
      "displayName": "Kaushik Jas ce19d202",
      "userId": "01693998378593910946"
     },
     "user_tz": -330
    },
    "id": "UiYZKxine6m0",
    "outputId": "11d7aba8-e573-4023-bfbb-25dabc3931ce"
   },
   "outputs": [
    {
     "data": {
      "image/png": "[encoded data removed]",
      "text/plain": [
       "<Figure size 576x576 with 1 Axes>"
      ]
     },
     "metadata": {},
     "output_type": "display_data"
    }
   ],
   "source": [
    "#Global Bar plots\n",
    "shap.plots.bar(shap_values, max_display=17, show=False)"
   ]
  },
  {
   "cell_type": "code",
   "execution_count": null,
   "metadata": {
    "id": "dvQh7yxwwSJ9"
   },
   "outputs": [],
   "source": []
  },
  {
   "cell_type": "markdown",
   "metadata": {
    "id": "FDKD11VjoInG"
   },
   "source": [
    "# Prepared by: \n",
    "\n",
    "#### Mr. KAUSHIK JAS, IITM, Chennai, Tamil Nadu, India\n",
    "\n",
    "Contact: ce19d202@smail.iitm.ac.in OR kaushik.jas.2013@gmail.com\n",
    "\n",
    "Website: https://sites.google.com/view/kaushikjasoffice3/home?authuser=0\n",
    "\n",
    "### Cite this model as:\n",
    "Jas, K., and Dodagoudar, G.R. (2023). \"Explainable machine learning model for liquefaction potential assessment of soils using XGBoost-SHAP.\" Soil Dynamics and Earthquake Engineering.165:107662. https://doi.org/10.1016/j.soildyn.2022.107662."
   ]
  },
  {
   "cell_type": "code",
   "execution_count": null,
   "metadata": {
    "id": "mRqLSpucoPgS"
   },
   "outputs": [],
   "source": []
  },
  {
   "cell_type": "code",
   "execution_count": null,
   "metadata": {
    "id": "17nS3lW9oD77"
   },
   "outputs": [],
   "source": []
  }
 ],
 "metadata": {
  "colab": {
   "authorship_tag": "ABX9TyMZXeyxkxJvb7ZbuAOYzpcO",
   "provenance": [
    {
     "file_id": "1UAlXbyRSk4Pz6CQB6F0Wr0dqgCJm7O3E",
     "timestamp": 1678795592563
    }
   ]
  },
  "kernelspec": {
   "display_name": "Python 3 (ipykernel)",
   "language": "python",
   "name": "python3"
  },
  "language_info": {
   "codemirror_mode": {
    "name": "ipython",
    "version": 3
   },
   "file_extension": ".py",
   "mimetype": "text/x-python",
   "name": "python",
   "nbconvert_exporter": "python",
   "pygments_lexer": "ipython3",
   "version": "3.10.9"
  }
 },
 "nbformat": 4,
 "nbformat_minor": 1
}
